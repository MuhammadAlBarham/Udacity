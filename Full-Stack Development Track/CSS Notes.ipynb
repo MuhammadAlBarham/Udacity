{
 "cells": [
  {
   "cell_type": "markdown",
   "metadata": {},
   "source": [
    "# CSS : Cascading Style Sheets"
   ]
  },
  {
   "cell_type": "markdown",
   "metadata": {},
   "source": [
    "A language for describing the visual appearance of web pages, including properties such as their layout, color, and fonts."
   ]
  },
  {
   "cell_type": "markdown",
   "metadata": {},
   "source": [
    "**Text to Trees**\n",
    "\n",
    "HTML Text >> Tree Structure >> Boxes"
   ]
  },
  {
   "cell_type": "markdown",
   "metadata": {},
   "source": [
    "![Text to Trees](CSS/Images_CSS/Tree_Structures.jpg)"
   ]
  },
  {
   "cell_type": "markdown",
   "metadata": {},
   "source": [
    "## Tree Structures"
   ]
  },
  {
   "cell_type": "markdown",
   "metadata": {},
   "source": [
    "It's not a diagram ...  \n",
    "\n",
    "It's a data structure- a way that informatoin can be organized."
   ]
  },
  {
   "cell_type": "markdown",
   "metadata": {},
   "source": [
    "Outline, Slide Decks, Classification are Trees."
   ]
  },
  {
   "cell_type": "markdown",
   "metadata": {},
   "source": [
    "![Tree](CSS/Images_Css/tree.jpg)"
   ]
  },
  {
   "cell_type": "markdown",
   "metadata": {},
   "source": [
    "```\n",
    "\n",
    "\n",
    "```\n",
    "\n",
    "HTML Text >> Tree Structure >> Boxes  \n",
    "```\n",
    "\n",
    "\n",
    "\n",
    "```"
   ]
  },
  {
   "cell_type": "markdown",
   "metadata": {},
   "source": [
    "<img src =\"CSS/Images_CSS/Conversion_of_Text.jpg\" />"
   ]
  },
  {
   "cell_type": "markdown",
   "metadata": {},
   "source": [
    "<img src =\"CSS/Images_CSS/Boxes_on_Screen.jpg\" />"
   ]
  },
  {
   "cell_type": "markdown",
   "metadata": {},
   "source": [
    "## Styling HTML directly"
   ]
  },
  {
   "cell_type": "markdown",
   "metadata": {},
   "source": [
    "The first way is to use the `style` <strong>attribute</strong> to apply style directly to an HTML element.\n",
    "\n",
    "The second way is to use the `style` <strong>element</strong> along with a <em>ruleset</em>."
   ]
  },
  {
   "cell_type": "markdown",
   "metadata": {},
   "source": [
    "```html\n",
    "\n",
    "<!-- Style element -->\n",
    "\n",
    "<style>\n",
    "  p { color: blue; }\n",
    "</style>\n",
    "<p>I'm blue!</p>\n",
    "\n",
    "<!-- Style Attribute -->\n",
    "\n",
    "<p style=\"color: blue;\">I'm blue</p>\n",
    "\n",
    "```"
   ]
  },
  {
   "cell_type": "markdown",
   "metadata": {},
   "source": [
    "By the way, when styles are applied directly to an HTML element using the `style` **attribute**, these are called **inline** styles.\n",
    "\n",
    "The idea is that the style is being applied directly in the same line as the HTML element that it is styling. (In contrast, when we use the `style` **element**, the style is separated—it's not in the same line.)"
   ]
  },
  {
   "cell_type": "code",
   "execution_count": null,
   "metadata": {},
   "outputs": [],
   "source": []
  }
 ],
 "metadata": {
  "kernelspec": {
   "display_name": "Python 3",
   "language": "python",
   "name": "python3"
  },
  "language_info": {
   "codemirror_mode": {
    "name": "ipython",
    "version": 3
   },
   "file_extension": ".py",
   "mimetype": "text/x-python",
   "name": "python",
   "nbconvert_exporter": "python",
   "pygments_lexer": "ipython3",
   "version": "3.7.6"
  }
 },
 "nbformat": 4,
 "nbformat_minor": 4
}
