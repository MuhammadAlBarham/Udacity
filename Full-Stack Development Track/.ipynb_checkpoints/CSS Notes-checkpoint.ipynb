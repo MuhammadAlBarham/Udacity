{
 "cells": [
  {
   "cell_type": "markdown",
   "metadata": {},
   "source": [
    "# CSS : Cascading Style Sheets"
   ]
  },
  {
   "cell_type": "markdown",
   "metadata": {},
   "source": [
    "A language for describing the visual appearance of web pages, including properties such as their layout, color, and fonts."
   ]
  },
  {
   "cell_type": "markdown",
   "metadata": {},
   "source": [
    "**Text to Trees**\n",
    "\n",
    "HTML Text >> Tree Structure >> Boxes"
   ]
  },
  {
   "cell_type": "markdown",
   "metadata": {},
   "source": [
    "![Text to Trees](CSS/Images_CSS/Tree_Structures.jpg)"
   ]
  },
  {
   "cell_type": "markdown",
   "metadata": {},
   "source": [
    "## Tree Structures"
   ]
  },
  {
   "cell_type": "markdown",
   "metadata": {},
   "source": [
    "It's not a diagram ...  \n",
    "\n",
    "It's a data structure- a way that informatoin can be organized."
   ]
  },
  {
   "cell_type": "markdown",
   "metadata": {},
   "source": [
    "Outline, Slide Decks, Classification are Trees."
   ]
  },
  {
   "cell_type": "markdown",
   "metadata": {},
   "source": [
    "![Tree](CSS/Images_Css/tree.jpg)"
   ]
  },
  {
   "cell_type": "markdown",
   "metadata": {},
   "source": [
    "```\n",
    "\n",
    "\n",
    "```\n",
    "\n",
    "HTML Text >> Tree Structure >> Boxes  \n",
    "```\n",
    "\n",
    "\n",
    "\n",
    "```"
   ]
  },
  {
   "cell_type": "markdown",
   "metadata": {},
   "source": [
    "<img src =\"CSS/Images_CSS/Conversion_of_Text.jpg\" />"
   ]
  },
  {
   "cell_type": "markdown",
   "metadata": {},
   "source": [
    "<img src =\"CSS/Images_CSS/Boxes_on_Screen.jpg\" />"
   ]
  },
  {
   "cell_type": "markdown",
   "metadata": {},
   "source": [
    "## Styling HTML directly"
   ]
  },
  {
   "cell_type": "markdown",
   "metadata": {},
   "source": [
    "The first way is to use the `style` <strong>attribute</strong> to apply style directly to an HTML element.\n",
    "\n",
    "The second way is to use the `style` <strong>element</strong> along with a <em>ruleset</em>."
   ]
  },
  {
   "cell_type": "markdown",
   "metadata": {},
   "source": [
    "```html\n",
    "\n",
    "<!-- Style element -->\n",
    "\n",
    "<style>\n",
    "  p { color: blue; }\n",
    "</style>\n",
    "<p>I'm blue!</p>\n",
    "\n",
    "<!-- Style Attribute -->\n",
    "\n",
    "<p style=\"color: blue;\">I'm blue</p>\n",
    "\n",
    "```"
   ]
  },
  {
   "cell_type": "markdown",
   "metadata": {},
   "source": [
    "By the way, when styles are applied directly to an HTML element using the `style` **attribute**, these are called **inline** styles.\n",
    "\n",
    "The idea is that the style is being applied directly in the same line as the HTML element that it is styling. (In contrast, when we use the `style` **element**, the style is separated—it's not in the same line.)"
   ]
  },
  {
   "cell_type": "markdown",
   "metadata": {},
   "source": [
    "**Note:** You may have noticed that the semicolon `;` at the end is optional—removing it does not seem to cause a problem. This is true if you only have one style applied to the element. If you want to add more styles, the semicolon must be used to separate them. For example:  \n",
    "\n",
    "`<p style=\"text-align:center; color:blue;\">This will be both centered and blue.</p>`"
   ]
  },
  {
   "cell_type": "markdown",
   "metadata": {},
   "source": [
    "## Practice — Quotes or no quotes?"
   ]
  },
  {
   "cell_type": "markdown",
   "metadata": {},
   "source": [
    "`<style> </style>` is HTML element"
   ]
  },
  {
   "cell_type": "markdown",
   "metadata": {},
   "source": [
    " both an `inline` style and a `separated` style"
   ]
  },
  {
   "cell_type": "markdown",
   "metadata": {},
   "source": [
    "# CSS Syntax\n",
    "\n",
    "Deleration Blocks == Rules"
   ]
  },
  {
   "cell_type": "markdown",
   "metadata": {},
   "source": [
    "<img src =\"CSS/Images_CSS/CSS_Syntax.jpg\" />"
   ]
  },
  {
   "cell_type": "markdown",
   "metadata": {},
   "source": [
    "<img src =\"CSS/Images_CSS/CSS_Syntax_2.jpg\" />"
   ]
  },
  {
   "cell_type": "code",
   "execution_count": null,
   "metadata": {},
   "outputs": [],
   "source": []
  },
  {
   "cell_type": "markdown",
   "metadata": {},
   "source": [
    "<img src =\"CSS/Images_CSS/CSS_Syntax_3.jpg\" />"
   ]
  },
  {
   "cell_type": "markdown",
   "metadata": {},
   "source": [
    "<img src =\"CSS/Images_CSS/CSS_Syntax_all.jpg\" />"
   ]
  },
  {
   "cell_type": "markdown",
   "metadata": {},
   "source": [
    "<embed src=\"https://youtu.be/i3lHUbFi7YI\" autostart=\"false\" />"
   ]
  },
  {
   "cell_type": "markdown",
   "metadata": {},
   "source": [
    "<a href=\"https://youtu.be/i3lHUbFi7YI\" title=\"Download movie\">Selector Type in CSS</a>\n"
   ]
  },
  {
   "cell_type": "markdown",
   "metadata": {},
   "source": [
    "# Class and ID"
   ]
  },
  {
   "cell_type": "markdown",
   "metadata": {},
   "source": [
    "<img src =\"CSS/Images_CSS/Class.jpg\" />"
   ]
  },
  {
   "cell_type": "markdown",
   "metadata": {},
   "source": [
    "<img src =\"CSS/Images_CSS/class_and_ID.jpg\" />"
   ]
  },
  {
   "cell_type": "markdown",
   "metadata": {},
   "source": [
    "<img src =\"CSS/Images_CSS/ID.jpg\" />"
   ]
  },
  {
   "cell_type": "markdown",
   "metadata": {},
   "source": [
    "# Selectors: Combining "
   ]
  },
  {
   "cell_type": "markdown",
   "metadata": {},
   "source": [
    "[Check here for more informaton](https://developer.mozilla.org/en-US/docs/Learn/CSS/Building_blocks/Selectors)"
   ]
  },
  {
   "cell_type": "markdown",
   "metadata": {},
   "source": [
    "# Vocabulary Review"
   ]
  },
  {
   "cell_type": "markdown",
   "metadata": {},
   "source": [
    "<img src =\"CSS/Images_CSS/Vocabulary_Review_1.jpg\" />"
   ]
  },
  {
   "cell_type": "markdown",
   "metadata": {},
   "source": [
    "# Selector Review"
   ]
  },
  {
   "cell_type": "markdown",
   "metadata": {},
   "source": [
    "<img src =\"CSS/Images_CSS/Selector_Review.jpg\" />"
   ]
  },
  {
   "cell_type": "markdown",
   "metadata": {},
   "source": [
    "` background-color: yellow; `"
   ]
  },
  {
   "cell_type": "markdown",
   "metadata": {},
   "source": [
    "`text-decoration: line-through;`"
   ]
  },
  {
   "cell_type": "markdown",
   "metadata": {},
   "source": [
    "# Practice — More class slectors\n"
   ]
  },
  {
   "cell_type": "markdown",
   "metadata": {},
   "source": [
    "In other words, how can we apply two classes to one element?\n",
    "\n",
    "This turns out to be pretty easy—we simply put in both of the class names, separated by a space. Like this:  \n",
    "\n",
    "`<li class=\"highlight done\">Make waffles`"
   ]
  },
  {
   "cell_type": "markdown",
   "metadata": {},
   "source": [
    "```CSS\n",
    ".highlight {\n",
    "  background-color: yellow;\n",
    "  font-weight: bold;\n",
    "  color: red;\n",
    "}\n",
    "```"
   ]
  },
  {
   "cell_type": "markdown",
   "metadata": {},
   "source": [
    "**Cascading and specificity**\n",
    "\n",
    "The term \"cascading\" in <em>Cascading</em> Style Sheets refers to the way that style properties \"cascade\" down the DOM tree, starting at the top. A style applied to the body element will affect the entire document. A style applied to a lower-level element will affect that element and all its descendants."
   ]
  },
  {
   "cell_type": "markdown",
   "metadata": {},
   "source": [
    "# Boxes"
   ]
  },
  {
   "cell_type": "markdown",
   "metadata": {},
   "source": [
    "<img src =\"CSS/Images_CSS/Boxes.jpg\" />"
   ]
  },
  {
   "cell_type": "markdown",
   "metadata": {},
   "source": [
    "<img src =\"CSS/Images_CSS/Boxes_.jpg\" />"
   ]
  },
  {
   "cell_type": "markdown",
   "metadata": {},
   "source": [
    "## Floating boxes"
   ]
  },
  {
   "cell_type": "markdown",
   "metadata": {},
   "source": [
    "`float : right ;`; it is added to the style block "
   ]
  },
  {
   "cell_type": "markdown",
   "metadata": {},
   "source": [
    "The `float: right`; property causes the red box to be placed toward the right side of whatever container it's inside. Since it is now inside the other `div`, it gets floated to the right side of that `div`."
   ]
  },
  {
   "cell_type": "markdown",
   "metadata": {},
   "source": [
    "Suppose we use the `width` property on an element, as in: `width: 50%`; What part of the element's box model is affected?\n",
    "\n",
    "The `width` property only changes the width of the **contents**. The padding, border, and margin are not included in the width (so they add extra width around the sides of the box!)."
   ]
  },
  {
   "cell_type": "markdown",
   "metadata": {},
   "source": [
    "# Learning more CSS"
   ]
  },
  {
   "cell_type": "markdown",
   "metadata": {},
   "source": [
    "You can find the MDN CSS reference here:\n",
    "\n",
    "https://developer.mozilla.org/en-US/docs/Web/CSS/Reference"
   ]
  },
  {
   "cell_type": "markdown",
   "metadata": {},
   "source": [
    "# Separating style\n"
   ]
  },
  {
   "cell_type": "markdown",
   "metadata": {},
   "source": [
    "<img src = \"CSS/Images_CSS/Seperating_Style.jpg\" />"
   ]
  },
  {
   "cell_type": "markdown",
   "metadata": {},
   "source": [
    "<img src = \"CSS/Images_CSS/Seperating_Style_2.jpg\" />"
   ]
  },
  {
   "cell_type": "markdown",
   "metadata": {},
   "source": [
    "To link to a stylesheet in your HTML file, add a link element to the head of the HTML file. The syntax for the link element is just like this:"
   ]
  },
  {
   "cell_type": "markdown",
   "metadata": {},
   "source": [
    "# Color"
   ]
  },
  {
   "cell_type": "markdown",
   "metadata": {},
   "source": [
    "```css\n",
    "# 02b3e4\n",
    "# rgb(1%, 70%, 89%)\n",
    "# rgb(2, 179, 228)\n",
    "```"
   ]
  },
  {
   "cell_type": "markdown",
   "metadata": {},
   "source": [
    "Check out this color picker from W3Schools, [here](https://www.w3schools.com/colors/colors_picker.asp)"
   ]
  },
  {
   "cell_type": "markdown",
   "metadata": {},
   "source": [
    "<img src = \"CSS/Images_CSS/fonts.jpg\" />"
   ]
  },
  {
   "cell_type": "markdown",
   "metadata": {},
   "source": [
    "https://developers.google.com/fonts/docs/getting_started\n",
    "    \n",
    "https://fonts.google.com/   "
   ]
  },
  {
   "cell_type": "markdown",
   "metadata": {},
   "source": [
    "```css\n",
    "font-weight: bold;\n",
    "font-style: italic;\n",
    "font-size: 14pt;\n",
    "text-decoration: underline\n",
    "```"
   ]
  },
  {
   "cell_type": "markdown",
   "metadata": {},
   "source": [
    "https://css-tricks.com/almanac/properties/f/font/"
   ]
  },
  {
   "cell_type": "code",
   "execution_count": null,
   "metadata": {},
   "outputs": [],
   "source": []
  }
 ],
 "metadata": {
  "kernelspec": {
   "display_name": "Python 3",
   "language": "python",
   "name": "python3"
  },
  "language_info": {
   "codemirror_mode": {
    "name": "ipython",
    "version": 3
   },
   "file_extension": ".py",
   "mimetype": "text/x-python",
   "name": "python",
   "nbconvert_exporter": "python",
   "pygments_lexer": "ipython3",
   "version": "3.7.6"
  }
 },
 "nbformat": 4,
 "nbformat_minor": 4
}
