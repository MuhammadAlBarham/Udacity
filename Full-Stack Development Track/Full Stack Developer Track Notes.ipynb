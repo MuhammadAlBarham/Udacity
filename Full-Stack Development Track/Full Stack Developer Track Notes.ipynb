{
 "cells": [
  {
   "cell_type": "markdown",
   "metadata": {},
   "source": [
    "# Stack Developer Engineer"
   ]
  },
  {
   "cell_type": "markdown",
   "metadata": {},
   "source": [
    "**hypertest** : a form of text in which documents can refer (link) to other documents and resources"
   ]
  },
  {
   "cell_type": "markdown",
   "metadata": {},
   "source": [
    "Which of these descriptions most accurately describes the Web?\n",
    "\n",
    "HTML documents and other resources that refer to each other with links"
   ]
  },
  {
   "cell_type": "markdown",
   "metadata": {},
   "source": [
    " **HTML** stands for **H**yper**T**ext **M**arkup **L**anguage"
   ]
  },
  {
   "cell_type": "markdown",
   "metadata": {},
   "source": [
    "**HTTP** stands for **H**yper**T**ext **T**ransfer **P**rotocol"
   ]
  },
  {
   "cell_type": "markdown",
   "metadata": {},
   "source": [
    "**HTML** the language that provides the structure and text of web pages"
   ]
  },
  {
   "cell_type": "markdown",
   "metadata": {},
   "source": [
    "## Introduction "
   ]
  },
  {
   "cell_type": "markdown",
   "metadata": {},
   "source": [
    "* Syntax \n",
    "    - Grammer Rules \n",
    "* Formalism \n",
    "    -Computers are literal\n",
    "* Nesting \n",
    "* There's alot of help\n",
    "    -The Mozilla Developer Network is a major resource for web developers. Find it [here](https://developer.mozilla.org/en-US/)\n",
    "\n"
   ]
  },
  {
   "cell_type": "markdown",
   "metadata": {},
   "source": [
    "**Text** that the user will actually read in thier browser.  \n",
    "\n",
    "**Markup**, which tells the browser what that text should look like, or how it's arranged. And within markup, there can can be ...  \n",
    "\n",
    "**Referances** to include other documents and files, like images and videos."
   ]
  },
  {
   "cell_type": "markdown",
   "metadata": {},
   "source": [
    "** Tags always start and end with angle brackets"
   ]
  },
  {
   "cell_type": "markdown",
   "metadata": {},
   "source": [
    "`<em>awesome</em>` :This is called element\n",
    "    \n",
    " `<em>`  : Opening (or start) tag.  \n",
    " `</em>` : Closing (or end) tag.  \n",
    " \n",
    " It is used to italic text\n",
    "\n",
    "    \n",
    "    "
   ]
  },
  {
   "cell_type": "markdown",
   "metadata": {},
   "source": [
    "## WhiteSpace \n",
    "\n",
    "* spaces, tabs and line breaks\n"
   ]
  },
  {
   "cell_type": "markdown",
   "metadata": {},
   "source": [
    "**Void element or Empty element**\n",
    "\n",
    "* An HTML element with no contents and no closing tag"
   ]
  },
  {
   "cell_type": "markdown",
   "metadata": {},
   "source": [
    "In order to create a line break that will show up in the browser, use the <br> tag"
   ]
  },
  {
   "cell_type": "markdown",
   "metadata": {},
   "source": [
    "* In order to create a line break that will show up in the browser, use the `<br>` tag.  \n"
   ]
  },
  {
   "cell_type": "markdown",
   "metadata": {},
   "source": [
    "**Breaks.html**\n",
    "\n",
    "```HTML\n",
    "\n",
    "Mary had a little toad<br>\n",
    "Its skin as tough as shell<br>\n",
    "And every file that toad would write<br>\n",
    "It used HTML.<br>\n",
    "\n",
    "```\n"
   ]
  },
  {
   "cell_type": "markdown",
   "metadata": {},
   "source": [
    "## Paragraphs"
   ]
  },
  {
   "cell_type": "markdown",
   "metadata": {},
   "source": [
    "paragraphs.html\n",
    "\n",
    "```html\n",
    "<p>This is a story. Add paragraph tags to make it better.</p>\n",
    "\n",
    "<p>Once upon a time there was a baby tiger named Talia. Talia lived in a fearsome jungle in the middle of the fearsome jungle. Talia was the most fearsome of all, though she was only a baby.</p>\n",
    "```"
   ]
  },
  {
   "cell_type": "markdown",
   "metadata": {},
   "source": [
    "## Lot of elements"
   ]
  },
  {
   "cell_type": "markdown",
   "metadata": {},
   "source": [
    "```html \n",
    "\n",
    "this is a <em>story</em> \n",
    "all about how \n",
    "\n",
    "<mark>my life</mark> got <sub>flipped,</sub>\n",
    "turned <sup>upside down</sup>\n",
    "\n",
    "```"
   ]
  },
  {
   "cell_type": "markdown",
   "metadata": {},
   "source": [
    "* `<em> </em>`     : to italized the text\n",
    "* `<mark> </mark>` : to highlight the text\n",
    "* `<sub> </sub>`   : subscript \n",
    "* `<sup> </sup>`   : superscript   "
   ]
  },
  {
   "cell_type": "markdown",
   "metadata": {},
   "source": [
    "* Nested elemetns:\n",
    "\n",
    "```html\n",
    "\n",
    "<em> this <sup> isn't </em> allowed </sup>\n",
    "\n",
    "``` \n",
    "\n",
    "<br>\n",
    "HTML elements can't <mark>overlap</mark> like this-- one must be inside the other."
   ]
  },
  {
   "cell_type": "markdown",
   "metadata": {},
   "source": [
    "# Elements review 1\n"
   ]
  },
  {
   "cell_type": "markdown",
   "metadata": {},
   "source": [
    "**HTML Elements Review 1***\n",
    "\n",
    "Here are the HTML elements that you've seen so far in this course. If you haven't tried them out yet in your own text editor and browser, this is a great time to do it!  \n",
    "\n",
    "* `<em>` and `<strong>` — Emphasis.\n",
    "By default, text inside `<em>` is displayed as italic, and text in `<strong>` is displayed as **boldface**.\n",
    "`<p>` — Paragraph.\n",
    "Text in a paragraph is separated visually from other paragraphs by a small margin.\n",
    "`<br>` — Line break. (empty)\n",
    "A line break does not create a new paragraph; it only marks the end of a line.\n",
    "`<sub>` and `<sup>` — Subscript and superscript.\n",
    "Useful for math and chemistry: I have x3+2x2 molecules of H2O.\n",
    "`<mark>` — Highlighting.  \n",
    "Not very often used, but it's kind of cool. <br><br>\n",
    "\n",
    "\n",
    "Of these elements, the `br` element is the only one that is an empty (or void) element."
   ]
  },
  {
   "cell_type": "markdown",
   "metadata": {},
   "source": [
    "**Which of these HTML elements can be used for headlines, or section headings, in a document?**\n",
    "\n",
    "That's right! HTML has several elements for headlines or section headings, starting with `<h1>` for the largest headlines and going down to `<h6>` for the smallest."
   ]
  },
  {
   "cell_type": "markdown",
   "metadata": {},
   "source": [
    "![Referance_sheet-1](/Referance_sheet-1.png)"
   ]
  },
  {
   "cell_type": "markdown",
   "metadata": {},
   "source": [
    "<h2>Practice — Headings</h2>"
   ]
  },
  {
   "cell_type": "markdown",
   "metadata": {},
   "source": [
    "```html```\n",
    "\n",
    "<h1>My HTML Notes</h1>\n",
    "<p>This page is a collection of my awesome notes about HTML!</p>\n",
    "<h2>The Web</h2>\n",
    "<p>The Web (or World Wide Web) is a collection of documents and other files. Most of the documents are made using Hypertext Markup Language (HTML).</p>\n",
    "<h2>What is HTML?</h2>\n",
    "<p>HTML stands for <em>Hypertext Markup Language</em>. It's used to define the structure or layout of a web page.</p> \n",
    "\n",
    "```"
   ]
  },
  {
   "cell_type": "markdown",
   "metadata": {},
   "source": [
    "<h1>My HTML Notes</h1>\n",
    "<p>This page is a collection of my awesome notes about HTML!</p>\n",
    "<h2>The Web</h2>\n",
    "<p>The Web (or World Wide Web) is a collection of documents and other files. Most of the documents are made using Hypertext Markup Language (HTML).</p>\n",
    "<h2>What is HTML?</h2>\n",
    "<p>HTML stands for <em>Hypertext Markup Language</em>. It's used to define the structure or layout of a web page.</p> "
   ]
  },
  {
   "cell_type": "markdown",
   "metadata": {},
   "source": [
    "<h1>Block and inline</h1>\n"
   ]
  },
  {
   "cell_type": "markdown",
   "metadata": {},
   "source": [
    "![Block_Inline_Elements](Block_Inline_Elements.jpg)"
   ]
  },
  {
   "cell_type": "markdown",
   "metadata": {},
   "source": [
    "**For your reference ...**<br><br><br>\n",
    "\n",
    "* Block-level elements, [here](https://developer.mozilla.org/en-US/docs/Web/HTML/Block-level_elements#Elements)\n",
    "* Inline elements , [here](https://developer.mozilla.org/en-US/docs/Web/HTML/Inline_elements#Elements)\n"
   ]
  },
  {
   "cell_type": "markdown",
   "metadata": {},
   "source": [
    " Block element, meaning the browser creates an invisible box around the text."
   ]
  },
  {
   "cell_type": "markdown",
   "metadata": {},
   "source": [
    "`p` is a <strong>block element</strong>, which means the browser creates a box around it. It also generates a margin around this box, to visually separate the paragraph from surrounding elements.\n",
    "\n",
    "In contrast, `br` is an **inline** element that just creates a line break. It doesn't have a box around it and doesn't create any margin."
   ]
  },
  {
   "cell_type": "markdown",
   "metadata": {},
   "source": [
    "<style>\n",
    "  p{border: 1px solid red}\n",
    "</style>\n",
    "\n",
    "Call me Ishmael.\n",
    "<br><br>\n",
    "Just don't call me late for dinner.\n",
    "\n",
    "<p>Call me Ishmael.</p>\n",
    "<p>Just don't call me late for dinner.</p>"
   ]
  },
  {
   "cell_type": "code",
   "execution_count": null,
   "metadata": {},
   "outputs": [],
   "source": []
  },
  {
   "cell_type": "markdown",
   "metadata": {},
   "source": [
    "**Practice — The div element**<br>\n",
    "\n",
    "In the video on block and inline elements, you may (or may not) have noticed that one of the block-level elements Kelly mentioned was called `div.`\n",
    "\n",
    "The `div` is short for **division**, because that's what this element is for—you can use it to <em>divide</em> up the page into different sections.\n",
    "\n",
    "Like the paragraph `p` element, the division `div` element has an invisible box around it—and just like p, it can have a border, a margin, a width, a height, and so on.\n",
    "\n",
    "But a `p` element is specifically meant to contain text. In contrast, the div element is a <em>generic</em> container for whatever other elements you might want to put inside. You can use the `div` element to organize the content and divide the page into sections.\n",
    "\n",
    "That's a bit abstract. It might help to give it a try in the workspace below. Try nesting the last two paragraphs inside a `div` element, like this:"
   ]
  },
  {
   "cell_type": "markdown",
   "metadata": {},
   "source": [
    "```html\n",
    "<div>\n",
    "  <p>Call me Ishmael.</p>\n",
    "  <p>Just don't call me late for dinner.</p>\n",
    "</div>\n",
    "```"
   ]
  },
  {
   "cell_type": "markdown",
   "metadata": {},
   "source": [
    "<div>\n",
    "  <p>Call me Ishmael.</p>\n",
    "  <p>Just don't call me late for dinner.</p>\n",
    "</div>"
   ]
  },
  {
   "cell_type": "markdown",
   "metadata": {},
   "source": [
    "We've set the div element's border to appear as well (in blue), so you should be able to see that the p elements are contained inside the div, like this:"
   ]
  },
  {
   "cell_type": "markdown",
   "metadata": {},
   "source": [
    "![seeing-boxes-div](seeing-boxes-div.png)"
   ]
  },
  {
   "cell_type": "markdown",
   "metadata": {},
   "source": [
    "The `div` element is a super important one, and it's used a <em>lot</em> in HTML to help lay out and organize pages. We aren't going to use the `div` element much in this lesson, but we'll be coming back to it in the next lesson—so keep it in mind!"
   ]
  },
  {
   "cell_type": "markdown",
   "metadata": {},
   "source": [
    "## Lists and implied close tags"
   ]
  },
  {
   "cell_type": "markdown",
   "metadata": {},
   "source": [
    "![O_U_list](O_U_list.jpg)"
   ]
  },
  {
   "cell_type": "markdown",
   "metadata": {},
   "source": [
    "![O_U_list_2](O_U_list_2.jpg)"
   ]
  },
  {
   "cell_type": "markdown",
   "metadata": {},
   "source": [
    "## The p element is another example of an element for which the closing tag is optional.\n",
    "\n"
   ]
  },
  {
   "cell_type": "markdown",
   "metadata": {},
   "source": [
    "You can include the closing tag:\n",
    "\n",
    "`<p>Like this!</p>`  \n",
    "\n",
    "Or leave it off:  \n",
    "    \n",
    "`<p>Like this!`\n"
   ]
  },
  {
   "cell_type": "markdown",
   "metadata": {},
   "source": [
    "Remember, when you leave off an optional closing tag, it is still implied—that is, the browser will figure out where the element should be closed, even though you didn't explicitly tell it."
   ]
  },
  {
   "cell_type": "markdown",
   "metadata": {},
   "source": [
    "The `em`, `ul`, and `ol` elements require a close tag, but the `p` and `li` elements do not."
   ]
  },
  {
   "cell_type": "markdown",
   "metadata": {},
   "source": [
    "## Nested lists\n"
   ]
  },
  {
   "cell_type": "markdown",
   "metadata": {},
   "source": [
    "```html\n",
    "\n",
    "<ul>\n",
    "  <li>Mammals\n",
    "    <ol>\n",
    "    <li>Raccoons\n",
    "    <li>Gorillas\n",
    "    </ol>\n",
    "  <li>Reptiles\n",
    "    <ol>\n",
    "    <li>Iguanas\n",
    "    <li>Cobras\n",
    "    </ol>\n",
    "  <li>Birds\n",
    "    <ol>\n",
    "    <li>Ostriches\n",
    "    <li>Ravens\n",
    "    </ol>\n",
    "</ul>\n",
    "\n",
    "```"
   ]
  },
  {
   "cell_type": "markdown",
   "metadata": {},
   "source": [
    "<ul>\n",
    "  <li>Mammals\n",
    "    <ol>\n",
    "    <li>Raccoons\n",
    "    <li>Gorillas\n",
    "    </ol>\n",
    "  <li>Reptiles\n",
    "    <ol>\n",
    "    <li>Iguanas\n",
    "    <li>Cobras\n",
    "    </ol>\n",
    "  <li>Birds\n",
    "    <ol>\n",
    "    <li>Ostriches\n",
    "    <li>Ravens\n",
    "    </ol>\n",
    "</ul>"
   ]
  },
  {
   "cell_type": "markdown",
   "metadata": {},
   "source": [
    "## Indentation"
   ]
  },
  {
   "cell_type": "markdown",
   "metadata": {},
   "source": [
    "Update your notes!  \n",
    "\n",
    "Now would be a good time to check the indentation in your notes file and adjust it if things are looking a bit messy or inconsistent.\n",
    "\n",
    "And remember, indentation can help you see which elements are nested inside other elements. So take advantage of that to make the code more readable!"
   ]
  },
  {
   "cell_type": "markdown",
   "metadata": {},
   "source": [
    "```html\n",
    "\n",
    "Without the closing</p> tag, the browser will still close the element automatically—but not until it sees the next p element starting. So all of the text up until that point gets included in the contents of the blue p element.\n",
    "\n",
    "```"
   ]
  },
  {
   "cell_type": "markdown",
   "metadata": {},
   "source": [
    "With `li` and `p`, the browser can figure out where to close the element. But with an element like `strong`, there's no way for the browser to know where you want the emphasis to stop!"
   ]
  },
  {
   "cell_type": "markdown",
   "metadata": {},
   "source": [
    "The `br` element is a **void** element—it doesn't have any contents (unlike `p`, which <em>does</em> have contents!)."
   ]
  },
  {
   "cell_type": "code",
   "execution_count": null,
   "metadata": {},
   "outputs": [],
   "source": []
  },
  {
   "cell_type": "markdown",
   "metadata": {},
   "source": [
    "![URL](URL.jpg)"
   ]
  },
  {
   "cell_type": "markdown",
   "metadata": {},
   "source": [
    "![web](web.jpg)"
   ]
  },
  {
   "cell_type": "code",
   "execution_count": null,
   "metadata": {},
   "outputs": [],
   "source": []
  },
  {
   "cell_type": "code",
   "execution_count": null,
   "metadata": {},
   "outputs": [],
   "source": []
  },
  {
   "cell_type": "markdown",
   "metadata": {},
   "source": [
    "## Links and the <a> tag\n"
   ]
  },
  {
   "cell_type": "markdown",
   "metadata": {},
   "source": [
    "![anchor](anchor.jpg)"
   ]
  },
  {
   "cell_type": "markdown",
   "metadata": {},
   "source": [
    "![link_and_tags](link_and_tags.jpg)"
   ]
  },
  {
   "cell_type": "markdown",
   "metadata": {},
   "source": [
    "* The a element is an inline element. It doesn't create a box on the page. Links normally have the appearance of a specially highlighted piece of text."
   ]
  },
  {
   "cell_type": "markdown",
   "metadata": {},
   "source": [
    "![href](href.jpg)"
   ]
  },
  {
   "cell_type": "markdown",
   "metadata": {},
   "source": [
    "We need to have the `https` protocol, as well as the `://` separator, in order for this to make a working link!"
   ]
  },
  {
   "cell_type": "markdown",
   "metadata": {},
   "source": [
    "# Adding images\n"
   ]
  },
  {
   "cell_type": "markdown",
   "metadata": {},
   "source": [
    "![Image](Image.jpg)"
   ]
  },
  {
   "cell_type": "markdown",
   "metadata": {},
   "source": [
    "![Image_2](Image_2.jpg)"
   ]
  },
  {
   "cell_type": "markdown",
   "metadata": {},
   "source": [
    "![Image_3](Image_3.jpg)"
   ]
  },
  {
   "cell_type": "markdown",
   "metadata": {},
   "source": [
    "<code>https://fakeurl.example.net/fish.png</code>"
   ]
  },
  {
   "cell_type": "markdown",
   "metadata": {},
   "source": [
    "Websites like <a href = \"https://placebear.com/\"> placebear.com </a>  and <a href = \"https://placekitten.com/\" > placekitten.com </a> are designed to make this super easy. All you have to do to get an image of any given size is put the width and height of the image at the end of the URL, as in https://placebear.com/200/300."
   ]
  },
  {
   "cell_type": "markdown",
   "metadata": {},
   "source": [
    "If you enjoyed playing with those, you can find other similar sites by doing a search for \"image placeholder\" and you'll find that there are gazillions more of them out there—like <a href = \"https://picsum.photos/\"> Lorem Picsum </a> and [FillMurray.com](https://www.fillmurray.com/)"
   ]
  },
  {
   "cell_type": "markdown",
   "metadata": {},
   "source": [
    "# Elements review 2"
   ]
  },
  {
   "cell_type": "markdown",
   "metadata": {},
   "source": [
    "<img src='Images/Ref_2_1.png' /> \n"
   ]
  },
  {
   "cell_type": "markdown",
   "metadata": {},
   "source": [
    "<img src = \"Ref_2_2.png\" lat= \"Ref_2_2\"/>"
   ]
  },
  {
   "cell_type": "markdown",
   "metadata": {},
   "source": [
    "<img src = \"Ref_2_3.png\" alt = \"Ref_2_1\"/>"
   ]
  },
  {
   "cell_type": "markdown",
   "metadata": {},
   "source": [
    "#                              Documents: The DOCTYPE tag"
   ]
  },
  {
   "cell_type": "markdown",
   "metadata": {},
   "source": [
    "<img src = \"Doc_Type.jpg\" alt = \"Doc_Type\">"
   ]
  },
  {
   "cell_type": "markdown",
   "metadata": {},
   "source": [
    "![doc_1](doc_1.jpg)"
   ]
  },
  {
   "cell_type": "markdown",
   "metadata": {},
   "source": [
    "![doc_2](doc_2.jpg)"
   ]
  },
  {
   "cell_type": "markdown",
   "metadata": {},
   "source": [
    "* Are `head` and `body` required?  \n",
    "\n",
    "In one sense, **no**, but in another sense, **yes**.\n",
    "\n",
    "The grammar of HTML does not require that you literally write a `<head>` or `<body>` tag in your HTML code. Many web developers do write these. However, if you don't, the browser will attempt to place them into your code itself.  \n",
    "\n",
    "It needs to put the `head` element around certain elements that belong there, such as `title`; and to put the `body` element around the elements that form the document's `body`. This means that all the head elements must appear first, and the `body` elements after.  \n",
    "\n",
    "\n",
    "So even if you choose not to literally write the `<head>` and `<body>` tags in your document, the `head` and `body` elements are still created by the browser; and the rest of the document needs to be consistent with this. But you must make sure that the title and other head parts appear before any paragraphs, lists, images, or other body parts."
   ]
  },
  {
   "cell_type": "markdown",
   "metadata": {},
   "source": [
    "# Validating HTML\n"
   ]
  },
  {
   "cell_type": "markdown",
   "metadata": {},
   "source": [
    "https://validator.w3.org/"
   ]
  },
  {
   "cell_type": "markdown",
   "metadata": {},
   "source": [
    "**Formating and Identatoin**: \n",
    "https://www.granneman.com/webdev/coding/formatting-and-indenting-your-html"
   ]
  },
  {
   "cell_type": "code",
   "execution_count": null,
   "metadata": {},
   "outputs": [],
   "source": []
  }
 ],
 "metadata": {
  "kernelspec": {
   "display_name": "Python 3",
   "language": "python",
   "name": "python3"
  },
  "language_info": {
   "codemirror_mode": {
    "name": "ipython",
    "version": 3
   },
   "file_extension": ".py",
   "mimetype": "text/x-python",
   "name": "python",
   "nbconvert_exporter": "python",
   "pygments_lexer": "ipython3",
   "version": "3.7.6"
  }
 },
 "nbformat": 4,
 "nbformat_minor": 4
}
