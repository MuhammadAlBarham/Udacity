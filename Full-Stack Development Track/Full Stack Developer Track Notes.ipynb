{
 "cells": [
  {
   "cell_type": "markdown",
   "metadata": {},
   "source": [
    "# Stack Developer Engineer"
   ]
  },
  {
   "cell_type": "markdown",
   "metadata": {},
   "source": [
    "**hypertest** : a form of text in which documents can refer (link) to other documents and resources"
   ]
  },
  {
   "cell_type": "markdown",
   "metadata": {},
   "source": [
    "Which of these descriptions most accurately describes the Web?\n",
    "\n",
    "HTML documents and other resources that refer to each other with links"
   ]
  },
  {
   "cell_type": "markdown",
   "metadata": {},
   "source": [
    " **HTML** stands for **H**yper**T**ext **M**arkup **L**anguage"
   ]
  },
  {
   "cell_type": "markdown",
   "metadata": {},
   "source": [
    "**HTTP** stands for **H**yper**T**ext **T**ransfer **P**rotocol"
   ]
  },
  {
   "cell_type": "markdown",
   "metadata": {},
   "source": [
    "**HTML** the language that provides the structure and text of web pages"
   ]
  },
  {
   "cell_type": "markdown",
   "metadata": {},
   "source": [
    "## Introduction "
   ]
  },
  {
   "cell_type": "markdown",
   "metadata": {},
   "source": [
    "* Syntax \n",
    "    - Grammer Rules \n",
    "* Formalism \n",
    "    -Computers are literal\n",
    "* Nesting \n",
    "* There's alot of help\n",
    "    -The Mozilla Developer Network is a major resource for web developers. Find it [here](https://developer.mozilla.org/en-US/)\n",
    "\n"
   ]
  },
  {
   "cell_type": "markdown",
   "metadata": {},
   "source": [
    "**Text** that the user will actually read in thier browser.  \n",
    "\n",
    "**Markup**, which tells the browser what that text should look like, or how it's arranged. And within markup, there can can be ...  \n",
    "\n",
    "**Referances** to include other documents and files, like images and videos."
   ]
  },
  {
   "cell_type": "markdown",
   "metadata": {},
   "source": [
    "** Tags always start and end with angle brackets"
   ]
  },
  {
   "cell_type": "markdown",
   "metadata": {},
   "source": [
    "`<em>awesome</em>` :This is called element\n",
    "    \n",
    " `<em>`  : Opening (or start) tag.  \n",
    " `</em>` : Closing (or end) tag.  \n",
    " \n",
    " It is used to italic text\n",
    "\n",
    "    \n",
    "    "
   ]
  },
  {
   "cell_type": "code",
   "execution_count": null,
   "metadata": {},
   "outputs": [],
   "source": []
  }
 ],
 "metadata": {
  "kernelspec": {
   "display_name": "Python 3",
   "language": "python",
   "name": "python3"
  },
  "language_info": {
   "codemirror_mode": {
    "name": "ipython",
    "version": 3
   },
   "file_extension": ".py",
   "mimetype": "text/x-python",
   "name": "python",
   "nbconvert_exporter": "python",
   "pygments_lexer": "ipython3",
   "version": "3.7.6"
  }
 },
 "nbformat": 4,
 "nbformat_minor": 4
}
