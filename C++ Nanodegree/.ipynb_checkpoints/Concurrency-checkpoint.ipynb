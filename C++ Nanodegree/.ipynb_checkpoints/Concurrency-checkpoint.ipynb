{
 "cells": [
  {
   "cell_type": "markdown",
   "metadata": {},
   "source": [
    " that have multiple paths of excusion that have the potential to run in parallel\n",
    " That path is called a thread \n",
    " And Several parts are called multi-threading.\n",
    " Programs using multiple threads are called concurrent.\n",
    " "
   ]
  },
  {
   "cell_type": "markdown",
   "metadata": {},
   "source": [
    "Processes and threads\n",
    "\n",
    "Consol command : \n",
    "\n",
    "`top` : To open the top window of linux system.  \n",
    "`q` : To quit the consol.\n",
    "    "
   ]
  },
  {
   "cell_type": "markdown",
   "metadata": {},
   "source": [
    "To compile this code with `g++`, you will need to use the `-pthread` flag. `pthread` adds support for multithreading with the pthreads library, and the option sets flags for both the preprocessor and linker:  \n",
    "\n",
    "`g++ example_3.cpp -pthread`"
   ]
  },
  {
   "cell_type": "markdown",
   "metadata": {},
   "source": [
    "Callable Object : \n",
    "    \n",
    "    1. https://stackoverflow.com/questions/19278424/what-is-a-callable-object-in-c\n",
    "    2. https://riptutorial.com/cplusplus/topic/6073/callable-objects.\n",
    "\n"
   ]
  },
  {
   "cell_type": "code",
   "execution_count": null,
   "metadata": {},
   "outputs": [],
   "source": []
  }
 ],
 "metadata": {
  "kernelspec": {
   "display_name": "Python 3",
   "language": "python",
   "name": "python3"
  },
  "language_info": {
   "codemirror_mode": {
    "name": "ipython",
    "version": 3
   },
   "file_extension": ".py",
   "mimetype": "text/x-python",
   "name": "python",
   "nbconvert_exporter": "python",
   "pygments_lexer": "ipython3",
   "version": "3.7.6"
  }
 },
 "nbformat": 4,
 "nbformat_minor": 4
}
