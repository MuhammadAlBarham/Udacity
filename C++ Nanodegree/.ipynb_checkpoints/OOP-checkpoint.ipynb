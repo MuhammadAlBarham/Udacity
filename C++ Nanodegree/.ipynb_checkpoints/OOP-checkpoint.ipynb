{
 "cells": [
  {
   "cell_type": "markdown",
   "metadata": {},
   "source": [
    "Class : is a user defined type."
   ]
  },
  {
   "cell_type": "markdown",
   "metadata": {},
   "source": [
    "### Default for naming the  member functions is Capitalized the first letter"
   ]
  },
  {
   "cell_type": "markdown",
   "metadata": {},
   "source": [
    "**Mutators / setters : are public member functions that allow us to change the state of an object.**"
   ]
  },
  {
   "cell_type": "markdown",
   "metadata": {},
   "source": [
    "<span class=\"graffiti-highlight graffiti-id_j5a9b81-id_t9xm0z7\"><i></i><button>Show Solution</button></span>"
   ]
  },
  {
   "cell_type": "markdown",
   "metadata": {},
   "source": [
    "**Look at Mutator Functions**"
   ]
  },
  {
   "cell_type": "markdown",
   "metadata": {},
   "source": [
    "Access modifers : https://www.tutorialspoint.com/cplusplus/cpp_class_access_modifiers.htm"
   ]
  },
  {
   "cell_type": "markdown",
   "metadata": {},
   "source": [
    "**As a convention : put a `_` after attribut name such as `lenght_`**"
   ]
  },
  {
   "cell_type": "markdown",
   "metadata": {},
   "source": [
    "Abstraction refers to the separation of a class's interface from the details of its implementation. The interface provides a way to interact with an object, while hiding the details and implementation of how the class works. "
   ]
  },
  {
   "cell_type": "markdown",
   "metadata": {},
   "source": [
    "check this website : https://www.learncpp.com/"
   ]
  },
  {
   "cell_type": "markdown",
   "metadata": {},
   "source": [
    "Inhertance is a really important topic in object orinted programming and it refers to a hirercal structure of classes where one class inherts from another.\n",
    "\n",
    "The top class is the base/parent class derived class with the child class."
   ]
  },
  {
   "cell_type": "markdown",
   "metadata": {},
   "source": [
    "# Composition"
   ]
  },
  {
   "cell_type": "markdown",
   "metadata": {},
   "source": [
    "**Compostion:** is an alterantive to inhertance as a way to relate classes to each other."
   ]
  },
  {
   "cell_type": "markdown",
   "metadata": {},
   "source": [
    "# Firends"
   ]
  },
  {
   "cell_type": "markdown",
   "metadata": {},
   "source": [
    "* The friend keyword grants access to the private members of a class"
   ]
  },
  {
   "cell_type": "markdown",
   "metadata": {},
   "source": [
    "In C++, `friend` classes provide an alternative inheritance mechanism to derived classes. The main difference between classical inheritance and friend inheritance is that a `friend` class can access private members of the base class, which isn't the case for classical inheritance. In classical inheritance, a derived class can only access public and protected members of the base class."
   ]
  },
  {
   "cell_type": "markdown",
   "metadata": {},
   "source": [
    "Overloading is a type od polymorphism that allows us to pass differnt aguements to same function name that might have differant implementation."
   ]
  },
  {
   "cell_type": "code",
   "execution_count": 1,
   "metadata": {},
   "outputs": [
    {
     "ename": "SyntaxError",
     "evalue": "invalid syntax (<ipython-input-1-85b5ccbec6a6>, line 1)",
     "output_type": "error",
     "traceback": [
      "\u001b[1;36m  File \u001b[1;32m\"<ipython-input-1-85b5ccbec6a6>\"\u001b[1;36m, line \u001b[1;32m1\u001b[0m\n\u001b[1;33m    Polymorphism is means \"assuming many forms\".\u001b[0m\n\u001b[1;37m                                              ^\u001b[0m\n\u001b[1;31mSyntaxError\u001b[0m\u001b[1;31m:\u001b[0m invalid syntax\n"
     ]
    }
   ],
   "source": [
    "Polymorphism is means \"assuming many forms\".\n",
    "\n",
    "In the context of object-oriented programming, polymorphism) describes a paradigm in which a function may behave differently depending on how it is called. In particular, the function will perform differently based on its inputs.\n",
    "\n",
    "Polymorphism can be achieved in two ways in C++: overloading and overriding. In this exercise we will focus on overloading."
   ]
  },
  {
   "cell_type": "markdown",
   "metadata": {},
   "source": [
    "Virtual Functions:\n",
    "\n",
    "Virtual functions are a polymorphic feature. These functions are declared (and possibly defined) in a base class, and can be overridden by derived classes.\n",
    "\n"
   ]
  },
  {
   "cell_type": "markdown",
   "metadata": {},
   "source": [
    "http://isocpp.github.io/CppCoreGuidelines/CppCoreGuidelines#main"
   ]
  },
  {
   "cell_type": "markdown",
   "metadata": {},
   "source": [
    "Meets Specifications\n",
    "Congratulations 🎊 on successfully completing this project. The way entire algorithm was implemented as well as the precautions that were taken to ensure that this submission runs with success is quite commendable.\n",
    "\n",
    "Some resources for further reading in your free time:\n",
    "\n",
    "A great video on Pointers: What Are Pointers? (C++)\n",
    "https://www.youtube.com/watch?v=iChalAKXffs\n",
    "A quick overview of Object Oriented Programming in C++\n",
    "https://www.youtube.com/watch?v=ZOKLjJF54Xc\n",
    "C++ docs\n",
    "http://www.cplusplus.com/doc/tutorial/\n",
    "C++17 features\n",
    "https://www.bfilipek.com/2017/01/cpp17features.html\n",
    "Vector and its attributes\n",
    "http://www.cplusplus.com/reference/vector/vector/?kw=vector\n",
    "Unordered map\n",
    "http://www.cplusplus.com/reference/unordered_map/unordered_map/\n",
    "Keep learning and stay udacious! :udacious:\n",
    "\n",
    "\n",
    "You did good job on implementing these methods. Well done! For checking structure of code. Here is the link to some good practices for reference: https://www.perforce.com/blog/sca/what-code-quality-and-how-improve-it.\n",
    "\n",
    "https://www.perforce.com/blog/sca/what-code-quality-and-how-improve-code-quality"
   ]
  }
 ],
 "metadata": {
  "kernelspec": {
   "display_name": "Python 3",
   "language": "python",
   "name": "python3"
  },
  "language_info": {
   "codemirror_mode": {
    "name": "ipython",
    "version": 3
   },
   "file_extension": ".py",
   "mimetype": "text/x-python",
   "name": "python",
   "nbconvert_exporter": "python",
   "pygments_lexer": "ipython3",
   "version": "3.7.6"
  }
 },
 "nbformat": 4,
 "nbformat_minor": 4
}
