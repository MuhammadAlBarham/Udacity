{
 "cells": [
  {
   "cell_type": "markdown",
   "metadata": {},
   "source": [
    "## c++ for programmers : 12 hours "
   ]
  },
  {
   "cell_type": "markdown",
   "metadata": {},
   "source": [
    "1. A Tool of c++ : 108 pages \n",
    "2. [Thr programming Language Fourth Edition](https://play.google.com/store/books/details?id=PSUNAAAAQBAJ&source=productsearch&utm_source=HA_Desktop_US&utm_medium=SEM&utm_campaign=PLA&pcampaignid=MKTAD0930BO1&gclid=CIGLxeSM6NICFYbifgodpTwGVA&gclsrc=ds)  : Used at Udacity \n",
    "3. Programming priciples and Practice in Using C++ : for freshman\n",
    "\n",
    "Any line that has a hash at the start is a preprocessor directive \n"
   ]
  },
  {
   "cell_type": "markdown",
   "metadata": {},
   "source": [
    "`#include <iostream`: Look for this file in the directory where all the standard libraries are stored\n",
    "\n",
    "`#include \"iostream\" `: Look in the current directory, if the file is not there, then look in the directory where the standard libraries are stored\n",
    "\n",
    "[Check the Standard Library](http://www.cplusplus.com/reference/)\n",
    "\n",
    "<b>include means add the declarations of the given library<b>"
   ]
  },
  {
   "cell_type": "markdown",
   "metadata": {},
   "source": [
    " ```cpp\n",
    " #include <iostream>\n",
    "\n",
    "  int main() \n",
    " {\n",
    "      std::cout << \"Hello world, I am ready for C++\";\n",
    "      return 0;\n",
    "  }\n",
    "  ```"
   ]
  },
  {
   "cell_type": "markdown",
   "metadata": {},
   "source": [
    "**Comments can be added in two ways:**\n",
    "\n",
    "* As a comment block\n",
    "* As a single line\n"
   ]
  },
  {
   "cell_type": "markdown",
   "metadata": {},
   "source": [
    "A straightforward style guide is:\n",
    "   \n",
    "   [Modern C++ Coding Guidelines](https://github.com/Microsoft/AirSim/blob/master/docs/coding_guidelines.md)\n",
    "\n",
    "For a more detailed guideline:\n",
    "\n",
    "   [Google C++ Style Guideline](https://google.github.io/styleguide/cppguide.html)"
   ]
  },
  {
   "cell_type": "markdown",
   "metadata": {},
   "source": [
    "### HelloWorld Programming Quiz\n",
    "\n",
    "\n",
    "**Code**\n",
    "\n",
    "```cpp\n",
    "/*Use the namespace keyword to simplify typing*/\n",
    "\n",
    "#include <iostream>\n",
    "\n",
    "int main()\n",
    "{\n",
    "    std::cout << \"Hey, writing std:: is pain, \";\n",
    "    std::cout << \"change the program so I don't have to write it.\";\n",
    "    return 0;\n",
    "}\n",
    "\n",
    "```  \n",
    "  \n",
    "  \n",
    "  \n",
    "\n",
    "**Solution :**\n",
    "\n",
    "```cpp\n",
    "/*write a C++ program that outputs the following statement:\n",
    "*** \"Hello world, I am ready for C++\"\n",
    "*/\n",
    "\n",
    "#include<iostream>\n",
    "\n",
    "int main (){\n",
    "    \n",
    "    \n",
    "    std::cout<< \"Hello world, I am ready for C++\"; \n",
    "    \n",
    "    return 0 ; \n",
    "}\n",
    "```\n"
   ]
  },
  {
   "cell_type": "markdown",
   "metadata": {},
   "source": [
    "**The command to compile is :**\n",
    "\n",
    " `g++  main.cpp -o main.out`\n",
    "\n",
    "G++ for the C++ compiler.The file name is main.cpp.  \n",
    "-o is for the name of the output. Main.out is the name of the output\n",
    "\n",
    "**To run the output file, main.out.**\n",
    "We run:\n",
    "\n",
    "`./main.out`\n",
    "\n"
   ]
  },
  {
   "cell_type": "markdown",
   "metadata": {},
   "source": [
    "#### Note : \n",
    "` using namespace std;`\n",
    "\n",
    "This tells the compiler to assume we are using the standard library, so we don’t have to write std::.\n",
    "I will add there is some controversy about using namespace. When the commands are not explicitly defined, there is a possibility that when your code is added to a large project, your code might reference a command from a different library."
   ]
  },
  {
   "cell_type": "markdown",
   "metadata": {},
   "source": [
    "### Namespace Programming Quiz : \n",
    "\n",
    "```cpp\n",
    "/*Use the namespace keyword to simplify typing*/\n",
    "\n",
    "#include <iostream>\n",
    "\n",
    "using namespace std ; \n",
    "int main()\n",
    "{\n",
    "    cout << \"Hey, writing std:: is pain, \";\n",
    "    cout << \"change the program so I don't have to write it.\";\n",
    "    return 0;\n",
    "}\n",
    "```\n"
   ]
  },
  {
   "cell_type": "markdown",
   "metadata": {},
   "source": [
    "**Note**: \n",
    "\n",
    "\n",
    "You must add them using the escape sequence “\\n” or endl.\n",
    "\n",
    "The differance between `endl` and `\\n`, [Answer](https://stackoverflow.com/questions/7324843/why-use-endl-when-i-can-use-a-newline-character)\n",
    "```cpp\n",
    "cout << x << endl;\n",
    "\n",
    "is equivalent to : \n",
    "\n",
    "cout << x << '\\n';\n",
    "cout.flush();\n",
    "```\n"
   ]
  },
  {
   "cell_type": "markdown",
   "metadata": {},
   "source": [
    "### sizeof\n",
    "\n",
    "To determine how many bytes each variable type uses, C++ provides the function sizeof(variableType).\n",
    "\n",
    "Syntax : \n",
    "```cpp\n",
    "sizeof(variable type) ie: sizeof(int)\n",
    "    \n",
    "``` \n",
    "\n",
    "**Example** \n",
    "\n",
    "cout<<\"int size = \"<<sizeof(int)<<\"\\n\";\n",
    "\n",
    "```\n",
    "\n",
    "\n",
    "\n",
    "```\n",
    "Go here to get more information about, [here](https://www.tutorialspoint.com/cplusplus/cpp_sizeof_operator.htm)\n"
   ]
  },
  {
   "cell_type": "markdown",
   "metadata": {},
   "source": [
    "#### Print Variables Programming Quiz\n",
    "\n",
    "\n",
    "```cpp\n",
    "/*GOAL: Practice writing to the console and learn \n",
    "**the variables types available in C++\n",
    "**Print the sizes of each variable to the console.\n",
    "**Print them in the following order:\n",
    "**int, short, long, char, float, double, bool\n",
    "**\n",
    "**Use the command sizeof(variable type) ie: sizeof(int)\n",
    "*/\n",
    "\n",
    "```\n",
    "\n",
    "```\n",
    "\n",
    "\n",
    "\n",
    "\n",
    "```\n",
    "\n",
    "**Answer** \n",
    "\n",
    "```cpp\n",
    " /*GOAL: Practice writing to the console and learn \n",
    " **the variables types available in C++\n",
    " **Print the sizes of each variable to the console.\n",
    " **Print them in the following order:\n",
    " **int, short, long, char, float, double, bool\n",
    " */\n",
    "\n",
    " #include <iostream>\n",
    " int main()\n",
    " {\n",
    "     using namespace std;\n",
    "     cout<<\"int size = \"<<sizeof(int)<<\"\\n\";\n",
    "     cout<<\"short size = \"<<sizeof(short)<<\"\\n\";\n",
    "     cout<<\"long size = \"<<sizeof(long)<<\"\\n\";\n",
    "     cout<<\"char size = \"<<sizeof(char)<<\"\\n\";\n",
    "     cout<<\"float size = \"<<sizeof(float)<<\"\\n\";\n",
    "     cout<<\"double size = \"<<sizeof(double)<<\"\\n\";\n",
    "     cout<<\"bool size = \"<<sizeof(bool)<<\"\\n\";\n",
    "     return 0;\n",
    " }\n",
    "```"
   ]
  },
  {
   "cell_type": "markdown",
   "metadata": {},
   "source": [
    "### Define constant : \n",
    "\n",
    "Example : \n",
    "\n",
    "```cpp\n",
    "           const int weightGoal = 100;\n",
    "```"
   ]
  },
  {
   "cell_type": "markdown",
   "metadata": {},
   "source": [
    "### Enumarated Constant: \n",
    "\n",
    "\n",
    "**Syntax**\n",
    "\n",
    "```cpp\n",
    "\n",
    "enum type_name {\n",
    "  value1,\n",
    "  value2,\n",
    "  value3,\n",
    "  .\n",
    "  .\n",
    "} object_names;\n",
    "```\n",
    "\n",
    "**For Example :**\n",
    " enum MONTH {Jan, Feb, Mar, Apr, May, Jun, Jul, Aug, Sep, Oct, Nov, Dec};\n",
    " \n",
    "**Note:** \n",
    "\n",
    "In this example the enum variable MONTH has twelve possible values. These 12 values translate into 12 integer values.\n",
    "\n",
    "\n",
    "```\n",
    "\n",
    "\n",
    "```\n",
    "\n",
    "```cpp\n",
    "\n",
    "/*Enum example*/\n",
    "\n",
    "#include <iostream>\n",
    "\n",
    "using namespace std;\n",
    "\n",
    "int main()\n",
    "{\n",
    "    //define MONTHS as having 12 possible values\n",
    "    enum MONTHS {Jan, Feb, Mar, Apr,May,Jun,Jul,Aug,Sep,Oct,Nov,Dec};\n",
    "    \n",
    "    //define bestMonth as a variable type MONTHS\n",
    "    MONTHS bestMonth;\n",
    "    \n",
    "    //assign bestMonth one of the values of MONTHS\n",
    "    bestMonth = Jan;\n",
    "    \n",
    "    //now we can check the value of bestMonths just \n",
    "    //like any other variable\n",
    "    if(bestMonth == Jan)\n",
    "    {\n",
    "        cout<<\"I'm not so sure January is the best month\\n\";\n",
    "    }\n",
    "    return 0;\n",
    "}\n",
    "```\n",
    "\n",
    "**Note**:  \n",
    "\n",
    "icrosoft recommends using singular for Enums unless the Enum represents bit fields    \n",
    "\n",
    "I had MONTHS for the enum variable in the example program. Alex rightly pointed out that I should have used MONTH instead.\n",
    "\n",
    "He cited this webpage:[here](https://stackoverflow.com/questions/1405851/enum-naming-convention-plural)"
   ]
  },
  {
   "cell_type": "code",
   "execution_count": null,
   "metadata": {},
   "outputs": [],
   "source": [
    "\n"
   ]
  }
 ],
 "metadata": {
  "kernelspec": {
   "display_name": "Python 3",
   "language": "python",
   "name": "python3"
  },
  "language_info": {
   "codemirror_mode": {
    "name": "ipython",
    "version": 3
   },
   "file_extension": ".py",
   "mimetype": "text/x-python",
   "name": "python",
   "nbconvert_exporter": "python",
   "pygments_lexer": "ipython3",
   "version": "3.7.6"
  }
 },
 "nbformat": 4,
 "nbformat_minor": 4
}
